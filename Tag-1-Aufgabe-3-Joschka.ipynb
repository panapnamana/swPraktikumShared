{
 "cells": [
  {
   "cell_type": "markdown",
   "metadata": {},
   "source": [
    "# Aufgabe 3 von Tag 1"
   ]
  },
  {
   "cell_type": "markdown",
   "metadata": {},
   "source": [
    "**fibo** berechnet die n-te Zahl der Fibonacci-Folge"
   ]
  },
  {
   "cell_type": "code",
   "execution_count": 36,
   "metadata": {},
   "outputs": [],
   "source": [
    "def fibo(n):\n",
    "    if n == 0:\n",
    "        return 0\n",
    "    if n == 1:\n",
    "        return 1\n",
    "    else:\n",
    "        km2 = 0\n",
    "        km1 = 1\n",
    "        for i in range(n):\n",
    "            k = km1 + km2\n",
    "            km2 = km1\n",
    "            km1 = k\n",
    "        return k\n",
    "    "
   ]
  },
  {
   "cell_type": "markdown",
   "metadata": {},
   "source": [
    "**phi** berechnet die approximation des goldenen Schnittes mit dem Quotienen aus der n-ten und der n+1-ten Fibonacci-Zahl"
   ]
  },
  {
   "cell_type": "code",
   "execution_count": 37,
   "metadata": {},
   "outputs": [],
   "source": [
    "def phi(n):\n",
    "    return fibo(n) / fibo(n + 1)"
   ]
  },
  {
   "cell_type": "markdown",
   "metadata": {},
   "source": [
    "**approxListPhi** nimmt eine Zahl und liefert eine liste mit Zahl-vielen Einträgen. Jeder Eintrag besteht aus einer Liste von zwei Zahlen. Die erste Zahl stellt eine Approximation des goldenen Schnittes dar, die zweite Zahl gibt den Abstand zur besten approximation von phi. Die große Liste ist sortiert, sodass die Approximation von Eintrag zu Eintrag immer besser wird, mit immer größeren Fibonacci-Zahlen."
   ]
  },
  {
   "cell_type": "code",
   "execution_count": 41,
   "metadata": {},
   "outputs": [],
   "source": [
    "def approxListPhi(length):\n",
    "    PHI = phi(43)\n",
    "    i = 1\n",
    "    outList = [[phi(0), abs(PHI - phi(0))]]\n",
    "    while len(outList) < 10:\n",
    "        if abs(PHI - phi(i)) < abs(PHI - phi(i - 1)):\n",
    "            outList += [[phi(i), abs(PHI - phi(i))]]\n",
    "        i += 1\n",
    "    return outList\n",
    "    "
   ]
  },
  {
   "cell_type": "code",
   "execution_count": 43,
   "metadata": {},
   "outputs": [
    {
     "data": {
      "text/plain": [
       "[[0.0, 0.6180339887498949],\n",
       " [0.5, 0.1180339887498949],\n",
       " [0.6666666666666666, 0.04863267791677173],\n",
       " [0.6, 0.018033988749894925],\n",
       " [0.625, 0.0069660112501050975],\n",
       " [0.6153846153846154, 0.0026493733652794837],\n",
       " [0.6190476190476191, 0.0010136302977241662],\n",
       " [0.6176470588235294, 0.00038692992636546464],\n",
       " [0.6181818181818182, 0.00014782943192326314],\n",
       " [0.6179775280898876, 5.6460660007306984e-05]]"
      ]
     },
     "execution_count": 43,
     "metadata": {},
     "output_type": "execute_result"
    }
   ],
   "source": [
    "#test\n",
    "approxListPhi(10)"
   ]
  },
  {
   "cell_type": "code",
   "execution_count": null,
   "metadata": {},
   "outputs": [],
   "source": []
  }
 ],
 "metadata": {
  "kernelspec": {
   "display_name": "Python 3",
   "language": "python",
   "name": "python3"
  },
  "language_info": {
   "codemirror_mode": {
    "name": "ipython",
    "version": 3
   },
   "file_extension": ".py",
   "mimetype": "text/x-python",
   "name": "python",
   "nbconvert_exporter": "python",
   "pygments_lexer": "ipython3",
   "version": "3.8.5"
  }
 },
 "nbformat": 4,
 "nbformat_minor": 4
}
